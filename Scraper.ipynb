{
 "cells": [
  {
   "cell_type": "code",
   "execution_count": 5,
   "metadata": {},
   "outputs": [],
   "source": [
    "from selenium import webdriver\n",
    "from selenium.webdriver.chrome.options import Options\n",
    "from selenium.webdriver.common.keys import Keys\n",
    "from selenium.webdriver.common.by import By\n",
    "from selenium.common.exceptions import NoSuchElementException,ElementClickInterceptedException, NoSuchWindowException, StaleElementReferenceException\n",
    "from bs4 import BeautifulSoup\n",
    "import time \n",
    "import random\n",
    "import pandas as pd\n",
    "from undetected_chromedriver import Chrome\n",
    "driver = webdriver.Chrome()\n",
    "driver.get(\"https://www.lazada.co.id/products/celana-cargo-wanita-highwaist-bonnie-cargo-pants-celana-kargo-wanita-i7706390243-s14174328153.html?spm=a2o4j.product-not-exist-m.just4u.1.4c9c268dTctOlL&&search=error&clickTrackInfo=d4d4a5eb-e0bc-48e3-83a0-a479dfd90636__7706390243__6567__hot__327975__0.0__0.2202121913433075__0.34739277__0.0__0.004694291__0.8888394832611084__0________0.0________95000.0__0.5947368421052632__4.581538461538462__650__38500.0__127620%2C255084%2C255127%2C255313%2C328068%2C333604%2C350221%2C350829%2C357502%2C366991%2C380123%2C381309%2C522897%2C524869%2C524875%2C525007%2C525880________3650.16539_955.3631_4560.21196____32745____0.22395138__0.0____________0.0__0.0__0.0\")\n",
    "time.sleep(50)\n"
   ]
  },
  {
   "cell_type": "code",
   "execution_count": 16,
   "metadata": {},
   "outputs": [
    {
     "data": {
      "text/plain": [
       "[<selenium.webdriver.remote.webelement.WebElement (session=\"bbd347722f7e59b7f687f3bdc1812a2c\", element=\"2592D16730259A907B0FB7A607555273_element_2588\")>,\n",
       " <selenium.webdriver.remote.webelement.WebElement (session=\"bbd347722f7e59b7f687f3bdc1812a2c\", element=\"2592D16730259A907B0FB7A607555273_element_2589\")>,\n",
       " <selenium.webdriver.remote.webelement.WebElement (session=\"bbd347722f7e59b7f687f3bdc1812a2c\", element=\"2592D16730259A907B0FB7A607555273_element_2590\")>,\n",
       " <selenium.webdriver.remote.webelement.WebElement (session=\"bbd347722f7e59b7f687f3bdc1812a2c\", element=\"2592D16730259A907B0FB7A607555273_element_2591\")>,\n",
       " <selenium.webdriver.remote.webelement.WebElement (session=\"bbd347722f7e59b7f687f3bdc1812a2c\", element=\"2592D16730259A907B0FB7A607555273_element_2592\")>]"
      ]
     },
     "execution_count": 16,
     "metadata": {},
     "output_type": "execute_result"
    }
   ],
   "source": []
  },
  {
   "cell_type": "code",
   "execution_count": 19,
   "metadata": {},
   "outputs": [
    {
     "name": "stdout",
     "output_type": "stream",
     "text": [
      "20 Des 2023\n",
      "A***a\n",
      "No desc\n",
      "18 Des 2023\n",
      "Monica\n",
      "Bahan: adem tp ga begitu tipis\n",
      " Ukuran: jumbo\n",
      " Rancangan: \n",
      "bahanya adem banget enak buat sehari hari aja sih, udh pesen size jumbo tp di paha ngepas dan cuman rada kepanjangan aja sih cuma oke harganya murah jadi buat sehari hari aja .. dan sampenya  cepet banget  \n",
      "1 hari lalu\n",
      "oooo\n",
      "baguuussss, di aku tinggi 165 pas ga cingkrang,, trs ya sesuai harga lah,, warnanya beda sama difoto,, bjku 50 kebesaran bagian pinggang\n",
      " \n",
      "3 minggu lalu\n",
      "R***a\n",
      "Bahan:bagus\n",
      " Ukuran:kebesaran \n",
      " Rancangan:ok\n",
      "\n",
      "bagus celananya sesuai yang dipesan, tapi pinggangnya kegedean dikit sm kepanjangan TB/bb ku 151/41. Tapi gpp bisa dikecilin. Trs warna putihnya nerawang harus pake legging lgi \n",
      "3 minggu lalu\n",
      "R***a\n",
      "Bahan:bagus\n",
      " Ukuran:pinggangnya kebesaran dikit\n",
      "\n",
      "\n",
      "Bagus celananya, sesuai yg dipesan. Tapi sayang agak kegedean doang sih, tb/bb ku 151/41. Tapi gpp ntar bisa dikecilin\n",
      "\n",
      " \n"
     ]
    }
   ],
   "source": [
    "for review in all_items:\n",
    "    date = review.find_element(By.CLASS_NAME, 'top').find_element(By.TAG_NAME, 'span').text\n",
    "    # review_dict['Date Posted'].append(date)\n",
    "    print(date)\n",
    "    name = review.find_element(By.CLASS_NAME, 'middle').find_element(By.TAG_NAME, 'span').text\n",
    "    # review_dict['Name'].append(name)\n",
    "    print(name)\n",
    "    try:\n",
    "        rev_text = review.find_element(By.CLASS_NAME,'item-content').find_element(By.CLASS_NAME, 'content').text\n",
    "        # review_dict['Review Text'].append(rev_text)\n",
    "        print(rev_text)\n",
    "    except NoSuchElementException:\n",
    "        # review_dict['Review Text'].append(\"No Description\")\n",
    "        print(\"No desc\")"
   ]
  },
  {
   "cell_type": "code",
   "execution_count": 20,
   "metadata": {},
   "outputs": [],
   "source": [
    "def scrollSlowly(driver):\n",
    "    driver.execute_script(\"window.scrollTo(0, 500);\")\n",
    "    time.sleep(1)\n",
    "    driver.execute_script(\"window.scrollTo(500, 800);\")\n",
    "    time.sleep(1)\n",
    "    driver.execute_script(\"window.scrollTo(800, 1000);\")\n",
    "    time.sleep(2)\n",
    "    driver.execute_script(\"window.scrollTo(1000, 1300);\")\n",
    "    time.sleep(2)\n",
    "    driver.execute_script(\"window.scrollTo(1300, 1600);\")\n",
    "    time.sleep(1)\n"
   ]
  },
  {
   "cell_type": "code",
   "execution_count": 26,
   "metadata": {},
   "outputs": [],
   "source": [
    "#retreiving the names reviews + names + review score + date posted\n",
    "review_dict = dict()\n",
    "review_dict['Name'] = []\n",
    "review_dict['Review Text'] = []\n",
    "review_dict['Date Posted'] = []\n",
    "\n",
    "def getReviews():\n",
    "    rev_end = False\n",
    "    while(not rev_end):\n",
    "        scrollSlowly(driver)\n",
    "        review_container = driver.find_element(By.CLASS_NAME, 'mod-reviews')\n",
    "        all_items = review_container.find_elements(By.CLASS_NAME, 'item')\n",
    "        for review in all_items:\n",
    "            date = review.find_element(By.CLASS_NAME, 'top').find_element(By.TAG_NAME, 'span').text\n",
    "            review_dict['Date Posted'].append(date)\n",
    "            name = review.find_element(By.CLASS_NAME, 'middle').find_element(By.TAG_NAME, 'span').text\n",
    "            review_dict['Name'].append(name)\n",
    "            try:\n",
    "                rev_text = review.find_element(By.CLASS_NAME,'item-content').find_element(By.CLASS_NAME, 'content').text\n",
    "                review_dict['Review Text'].append(rev_text)\n",
    "            except NoSuchElementException:\n",
    "                review_dict['Review Text'].append(\"No Description\")\n",
    "        #getting the next button link to click it \n",
    "        try:\n",
    "            next_button_path = review_container.find_element(By.XPATH,'//*[@id=\"module_product_review\"]/div/div/div[3]/div[2]/div/button[2]')\n",
    "            next_button_path.click()\n",
    "        except NoSuchElementException:\n",
    "            rev_end = True\n",
    "            driver.close()\n"
   ]
  },
  {
   "cell_type": "code",
   "execution_count": 27,
   "metadata": {},
   "outputs": [
    {
     "ename": "KeyboardInterrupt",
     "evalue": "",
     "output_type": "error",
     "traceback": [
      "\u001b[1;31m---------------------------------------------------------------------------\u001b[0m",
      "\u001b[1;31mKeyboardInterrupt\u001b[0m                         Traceback (most recent call last)",
      "Cell \u001b[1;32mIn[27], line 1\u001b[0m\n\u001b[1;32m----> 1\u001b[0m \u001b[43mgetReviews\u001b[49m\u001b[43m(\u001b[49m\u001b[43m)\u001b[49m\n",
      "Cell \u001b[1;32mIn[26], line 10\u001b[0m, in \u001b[0;36mgetReviews\u001b[1;34m()\u001b[0m\n\u001b[0;32m      8\u001b[0m rev_end \u001b[38;5;241m=\u001b[39m \u001b[38;5;28;01mFalse\u001b[39;00m\n\u001b[0;32m      9\u001b[0m \u001b[38;5;28;01mwhile\u001b[39;00m(\u001b[38;5;129;01mnot\u001b[39;00m rev_end):\n\u001b[1;32m---> 10\u001b[0m     \u001b[43mscrollSlowly\u001b[49m\u001b[43m(\u001b[49m\u001b[43mdriver\u001b[49m\u001b[43m)\u001b[49m\n\u001b[0;32m     11\u001b[0m     review_container \u001b[38;5;241m=\u001b[39m driver\u001b[38;5;241m.\u001b[39mfind_element(By\u001b[38;5;241m.\u001b[39mCLASS_NAME, \u001b[38;5;124m'\u001b[39m\u001b[38;5;124mmod-reviews\u001b[39m\u001b[38;5;124m'\u001b[39m)\n\u001b[0;32m     12\u001b[0m     all_items \u001b[38;5;241m=\u001b[39m review_container\u001b[38;5;241m.\u001b[39mfind_elements(By\u001b[38;5;241m.\u001b[39mCLASS_NAME, \u001b[38;5;124m'\u001b[39m\u001b[38;5;124mitem\u001b[39m\u001b[38;5;124m'\u001b[39m)\n",
      "Cell \u001b[1;32mIn[20], line 9\u001b[0m, in \u001b[0;36mscrollSlowly\u001b[1;34m(driver)\u001b[0m\n\u001b[0;32m      7\u001b[0m time\u001b[38;5;241m.\u001b[39msleep(\u001b[38;5;241m2\u001b[39m)\n\u001b[0;32m      8\u001b[0m driver\u001b[38;5;241m.\u001b[39mexecute_script(\u001b[38;5;124m\"\u001b[39m\u001b[38;5;124mwindow.scrollTo(1000, 1300);\u001b[39m\u001b[38;5;124m\"\u001b[39m)\n\u001b[1;32m----> 9\u001b[0m time\u001b[38;5;241m.\u001b[39msleep(\u001b[38;5;241m2\u001b[39m)\n\u001b[0;32m     10\u001b[0m driver\u001b[38;5;241m.\u001b[39mexecute_script(\u001b[38;5;124m\"\u001b[39m\u001b[38;5;124mwindow.scrollTo(1300, 1600);\u001b[39m\u001b[38;5;124m\"\u001b[39m)\n\u001b[0;32m     11\u001b[0m time\u001b[38;5;241m.\u001b[39msleep(\u001b[38;5;241m1\u001b[39m)\n",
      "\u001b[1;31mKeyboardInterrupt\u001b[0m: "
     ]
    }
   ],
   "source": [
    "getReviews()"
   ]
  },
  {
   "cell_type": "code",
   "execution_count": 31,
   "metadata": {},
   "outputs": [
    {
     "data": {
      "text/html": [
       "<div>\n",
       "<style scoped>\n",
       "    .dataframe tbody tr th:only-of-type {\n",
       "        vertical-align: middle;\n",
       "    }\n",
       "\n",
       "    .dataframe tbody tr th {\n",
       "        vertical-align: top;\n",
       "    }\n",
       "\n",
       "    .dataframe thead th {\n",
       "        text-align: right;\n",
       "    }\n",
       "</style>\n",
       "<table border=\"1\" class=\"dataframe\">\n",
       "  <thead>\n",
       "    <tr style=\"text-align: right;\">\n",
       "      <th></th>\n",
       "      <th>Name</th>\n",
       "      <th>Review Text</th>\n",
       "      <th>Date Posted</th>\n",
       "    </tr>\n",
       "  </thead>\n",
       "  <tbody>\n",
       "    <tr>\n",
       "      <th>0</th>\n",
       "      <td>*********541</td>\n",
       "      <td>skstkalxhldhldyr5is5isiyhxbzgkzfjstjdupfp gkzf...</td>\n",
       "      <td>17 Des 2023</td>\n",
       "    </tr>\n",
       "    <tr>\n",
       "      <th>1</th>\n",
       "      <td>Ayuk I.</td>\n",
       "      <td>pengiriman cepat kurir ramah...bahanya gak ses...</td>\n",
       "      <td>14 Des 2023</td>\n",
       "    </tr>\n",
       "    <tr>\n",
       "      <th>2</th>\n",
       "      <td>Novia R.</td>\n",
       "      <td>Alhamdulillah barang sudah sampai dengan aman ...</td>\n",
       "      <td>05 Nov 2023</td>\n",
       "    </tr>\n",
       "    <tr>\n",
       "      <th>3</th>\n",
       "      <td>N***.</td>\n",
       "      <td>Celana kargo serbaguna untuk berbagai acara., ...</td>\n",
       "      <td>3 minggu lalu</td>\n",
       "    </tr>\n",
       "    <tr>\n",
       "      <th>4</th>\n",
       "      <td>Viraa</td>\n",
       "      <td>Bagus untuk aktivitas di luar ruangan., Desain...</td>\n",
       "      <td>02 Des 2023</td>\n",
       "    </tr>\n",
       "    <tr>\n",
       "      <th>...</th>\n",
       "      <td>...</td>\n",
       "      <td>...</td>\n",
       "      <td>...</td>\n",
       "    </tr>\n",
       "    <tr>\n",
       "      <th>388</th>\n",
       "      <td>Angelia O.</td>\n",
       "      <td>bahannya tipis g sesuai</td>\n",
       "      <td>1 hari lalu</td>\n",
       "    </tr>\n",
       "    <tr>\n",
       "      <th>389</th>\n",
       "      <td>Mmh,salwa</td>\n",
       "      <td>mff baru komen kmrn waktu ngatrin paket kurir ...</td>\n",
       "      <td>29 Nov 2023</td>\n",
       "    </tr>\n",
       "    <tr>\n",
       "      <th>390</th>\n",
       "      <td>Intan M.</td>\n",
       "      <td>bahan nya jatuh TPI saya pesen standar eh yg d...</td>\n",
       "      <td>11 Des 2023</td>\n",
       "    </tr>\n",
       "    <tr>\n",
       "      <th>392</th>\n",
       "      <td>Iis I.</td>\n",
       "      <td>celan anya bagusss  sesuai sama yg di gambar s...</td>\n",
       "      <td>30 Des 2023</td>\n",
       "    </tr>\n",
       "    <tr>\n",
       "      <th>393</th>\n",
       "      <td>Titian</td>\n",
       "      <td>ok</td>\n",
       "      <td>01 Okt 2023</td>\n",
       "    </tr>\n",
       "  </tbody>\n",
       "</table>\n",
       "<p>285 rows × 3 columns</p>\n",
       "</div>"
      ],
      "text/plain": [
       "             Name                                        Review Text  \\\n",
       "0    *********541  skstkalxhldhldyr5is5isiyhxbzgkzfjstjdupfp gkzf...   \n",
       "1         Ayuk I.  pengiriman cepat kurir ramah...bahanya gak ses...   \n",
       "2        Novia R.  Alhamdulillah barang sudah sampai dengan aman ...   \n",
       "3           N***.  Celana kargo serbaguna untuk berbagai acara., ...   \n",
       "4           Viraa  Bagus untuk aktivitas di luar ruangan., Desain...   \n",
       "..            ...                                                ...   \n",
       "388    Angelia O.                           bahannya tipis g sesuai    \n",
       "389     Mmh,salwa  mff baru komen kmrn waktu ngatrin paket kurir ...   \n",
       "390      Intan M.  bahan nya jatuh TPI saya pesen standar eh yg d...   \n",
       "392        Iis I.  celan anya bagusss  sesuai sama yg di gambar s...   \n",
       "393        Titian                                                ok    \n",
       "\n",
       "       Date Posted  \n",
       "0      17 Des 2023  \n",
       "1      14 Des 2023  \n",
       "2      05 Nov 2023  \n",
       "3    3 minggu lalu  \n",
       "4      02 Des 2023  \n",
       "..             ...  \n",
       "388    1 hari lalu  \n",
       "389    29 Nov 2023  \n",
       "390    11 Des 2023  \n",
       "392    30 Des 2023  \n",
       "393    01 Okt 2023  \n",
       "\n",
       "[285 rows x 3 columns]"
      ]
     },
     "execution_count": 31,
     "metadata": {},
     "output_type": "execute_result"
    }
   ],
   "source": [
    "df = pd.DataFrame(review_dict)\n",
    "df.drop_duplicates(subset=['Name'])"
   ]
  }
 ],
 "metadata": {
  "kernelspec": {
   "display_name": "Python 3",
   "language": "python",
   "name": "python3"
  },
  "language_info": {
   "codemirror_mode": {
    "name": "ipython",
    "version": 3
   },
   "file_extension": ".py",
   "mimetype": "text/x-python",
   "name": "python",
   "nbconvert_exporter": "python",
   "pygments_lexer": "ipython3",
   "version": "3.11.5"
  }
 },
 "nbformat": 4,
 "nbformat_minor": 2
}
