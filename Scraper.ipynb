{
 "cells": [
  {
   "cell_type": "code",
   "execution_count": 5,
   "metadata": {},
   "outputs": [],
   "source": [
    "from selenium import webdriver\n",
    "from selenium.webdriver.chrome.options import Options\n",
    "from selenium.webdriver.common.keys import Keys\n",
    "from selenium.webdriver.common.by import By\n",
    "from selenium.common.exceptions import NoSuchElementException,ElementClickInterceptedException, NoSuchWindowException, StaleElementReferenceException\n",
    "from bs4 import BeautifulSoup\n",
    "import time \n",
    "import random\n",
    "import pandas as pd\n",
    "from undetected_chromedriver import Chrome\n",
    "driver = webdriver.Chrome()\n",
    "driver.get(\"https://www.lazada.co.id/products/celana-cargo-wanita-highwaist-bonnie-cargo-pants-celana-kargo-wanita-i7706390243-s14174328153.html?spm=a2o4j.product-not-exist-m.just4u.1.4c9c268dTctOlL&&search=error&clickTrackInfo=d4d4a5eb-e0bc-48e3-83a0-a479dfd90636__7706390243__6567__hot__327975__0.0__0.2202121913433075__0.34739277__0.0__0.004694291__0.8888394832611084__0________0.0________95000.0__0.5947368421052632__4.581538461538462__650__38500.0__127620%2C255084%2C255127%2C255313%2C328068%2C333604%2C350221%2C350829%2C357502%2C366991%2C380123%2C381309%2C522897%2C524869%2C524875%2C525007%2C525880________3650.16539_955.3631_4560.21196____32745____0.22395138__0.0____________0.0__0.0__0.0\")\n",
    "time.sleep(50)\n"
   ]
  },
  {
   "cell_type": "code",
   "execution_count": 16,
   "metadata": {},
   "outputs": [
    {
     "data": {
      "text/plain": [
       "[<selenium.webdriver.remote.webelement.WebElement (session=\"bbd347722f7e59b7f687f3bdc1812a2c\", element=\"2592D16730259A907B0FB7A607555273_element_2588\")>,\n",
       " <selenium.webdriver.remote.webelement.WebElement (session=\"bbd347722f7e59b7f687f3bdc1812a2c\", element=\"2592D16730259A907B0FB7A607555273_element_2589\")>,\n",
       " <selenium.webdriver.remote.webelement.WebElement (session=\"bbd347722f7e59b7f687f3bdc1812a2c\", element=\"2592D16730259A907B0FB7A607555273_element_2590\")>,\n",
       " <selenium.webdriver.remote.webelement.WebElement (session=\"bbd347722f7e59b7f687f3bdc1812a2c\", element=\"2592D16730259A907B0FB7A607555273_element_2591\")>,\n",
       " <selenium.webdriver.remote.webelement.WebElement (session=\"bbd347722f7e59b7f687f3bdc1812a2c\", element=\"2592D16730259A907B0FB7A607555273_element_2592\")>]"
      ]
     },
     "execution_count": 16,
     "metadata": {},
     "output_type": "execute_result"
    }
   ],
   "source": []
  },
  {
   "cell_type": "code",
   "execution_count": 19,
   "metadata": {},
   "outputs": [
    {
     "name": "stdout",
     "output_type": "stream",
     "text": [
      "20 Des 2023\n",
      "A***a\n",
      "No desc\n",
      "18 Des 2023\n",
      "Monica\n",
      "Bahan: adem tp ga begitu tipis\n",
      " Ukuran: jumbo\n",
      " Rancangan: \n",
      "bahanya adem banget enak buat sehari hari aja sih, udh pesen size jumbo tp di paha ngepas dan cuman rada kepanjangan aja sih cuma oke harganya murah jadi buat sehari hari aja .. dan sampenya  cepet banget  \n",
      "1 hari lalu\n",
      "oooo\n",
      "baguuussss, di aku tinggi 165 pas ga cingkrang,, trs ya sesuai harga lah,, warnanya beda sama difoto,, bjku 50 kebesaran bagian pinggang\n",
      " \n",
      "3 minggu lalu\n",
      "R***a\n",
      "Bahan:bagus\n",
      " Ukuran:kebesaran \n",
      " Rancangan:ok\n",
      "\n",
      "bagus celananya sesuai yang dipesan, tapi pinggangnya kegedean dikit sm kepanjangan TB/bb ku 151/41. Tapi gpp bisa dikecilin. Trs warna putihnya nerawang harus pake legging lgi \n",
      "3 minggu lalu\n",
      "R***a\n",
      "Bahan:bagus\n",
      " Ukuran:pinggangnya kebesaran dikit\n",
      "\n",
      "\n",
      "Bagus celananya, sesuai yg dipesan. Tapi sayang agak kegedean doang sih, tb/bb ku 151/41. Tapi gpp ntar bisa dikecilin\n",
      "\n",
      " \n"
     ]
    }
   ],
   "source": [
    "for review in all_items:\n",
    "    date = review.find_element(By.CLASS_NAME, 'top').find_element(By.TAG_NAME, 'span').text\n",
    "    # review_dict['Date Posted'].append(date)\n",
    "    print(date)\n",
    "    name = review.find_element(By.CLASS_NAME, 'middle').find_element(By.TAG_NAME, 'span').text\n",
    "    # review_dict['Name'].append(name)\n",
    "    print(name)\n",
    "    try:\n",
    "        rev_text = review.find_element(By.CLASS_NAME,'item-content').find_element(By.CLASS_NAME, 'content').text\n",
    "        # review_dict['Review Text'].append(rev_text)\n",
    "        print(rev_text)\n",
    "    except NoSuchElementException:\n",
    "        # review_dict['Review Text'].append(\"No Description\")\n",
    "        print(\"No desc\")"
   ]
  },
  {
   "cell_type": "code",
   "execution_count": 20,
   "metadata": {},
   "outputs": [],
   "source": [
    "def scrollSlowly(driver):\n",
    "    driver.execute_script(\"window.scrollTo(0, 500);\")\n",
    "    time.sleep(1)\n",
    "    driver.execute_script(\"window.scrollTo(500, 800);\")\n",
    "    time.sleep(1)\n",
    "    driver.execute_script(\"window.scrollTo(800, 1000);\")\n",
    "    time.sleep(2)\n",
    "    driver.execute_script(\"window.scrollTo(1000, 1300);\")\n",
    "    time.sleep(2)\n",
    "    driver.execute_script(\"window.scrollTo(1300, 1600);\")\n",
    "    time.sleep(1)\n"
   ]
  },
  {
   "cell_type": "code",
   "execution_count": 14,
   "metadata": {},
   "outputs": [],
   "source": [
    "#retreiving the names reviews + names + review score + date posted\n",
    "review_dict = dict()\n",
    "review_dict['Name'] = []\n",
    "review_dict['Review Text'] = []\n",
    "review_dict['Date Posted'] = []\n",
    "\n",
    "def getReviews():\n",
    "    scrollSlowly(driver)\n",
    "    review_container = driver.find_element(By.CLASS_NAME, 'mod-reviews')\n",
    "    all_items = review_container.find_elements(By.CLASS_NAME, 'item')\n",
    "    for review in all_items:\n",
    "        date = review.find_element(By.CLASS_NAME, 'top').find_element(By.TAG_NAME, 'span').text\n",
    "        review_dict['Date Posted'].append(date)\n",
    "        name = review.find_element(By.CLASS_NAME, 'middle').find_element(By.TAG_NAME, 'span').text\n",
    "        review_dict['Name'].append(name)\n",
    "        try:\n",
    "            rev_text = review.find_element(By.CLASS_NAME,'item-content').find_element(By.CLASS_NAME, 'content').text\n",
    "            review_dict['Review Text'].append(rev_text)\n",
    "        except NoSuchElementException:\n",
    "            review_dict['Review Text'].append(\"No Description\")\n",
    "    #getting the next button link to click it \n",
    "    try:\n",
    "        next_button_path = review_container.find_element(By.XPATH,'//*[@id=\"module_product_review\"]/div/div/div[3]/div[2]/div/button[2]')\n",
    "        next_button_path.click()\n",
    "    except NoSuchElementException:\n",
    "        driver.close()\n"
   ]
  },
  {
   "cell_type": "code",
   "execution_count": null,
   "metadata": {},
   "outputs": [],
   "source": []
  }
 ],
 "metadata": {
  "kernelspec": {
   "display_name": "Python 3",
   "language": "python",
   "name": "python3"
  },
  "language_info": {
   "codemirror_mode": {
    "name": "ipython",
    "version": 3
   },
   "file_extension": ".py",
   "mimetype": "text/x-python",
   "name": "python",
   "nbconvert_exporter": "python",
   "pygments_lexer": "ipython3",
   "version": "3.11.5"
  }
 },
 "nbformat": 4,
 "nbformat_minor": 2
}
